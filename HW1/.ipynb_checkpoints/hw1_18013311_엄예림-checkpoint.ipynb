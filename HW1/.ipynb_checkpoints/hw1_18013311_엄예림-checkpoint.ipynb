{
 "cells": [
  {
   "cell_type": "markdown",
   "id": "ec148e12",
   "metadata": {},
   "source": [
    "# 실습 1."
   ]
  },
  {
   "cell_type": "markdown",
   "id": "2b2a029d",
   "metadata": {},
   "source": [
    "### 2022년 8월 세종대역 시간대별 승하차 인원 정보\n",
    "https://data.seoul.go.kr/dataList/OA-12252/S/1/datasetView.do"
   ]
  },
  {
   "cell_type": "markdown",
   "id": "70f96b0e",
   "metadata": {},
   "source": [
    "#### 1. 라이브러리 import"
   ]
  },
  {
   "cell_type": "code",
   "execution_count": 6,
   "id": "d836ee93",
   "metadata": {},
   "outputs": [],
   "source": [
    "import pandas as pd\n",
    "import numpy as np\n",
    "import matplotlib.pyplot as plt"
   ]
  },
  {
   "cell_type": "markdown",
   "id": "2bb573af",
   "metadata": {},
   "source": [
    "#### 2. csv 파일 불러오기\n",
    "###### read_csv 사용 시 'UnicodeDecodeError' 인코딩 오류 해결\n",
    "➡ read_csv()에 encoding='CP949' 옵션 추가"
   ]
  },
  {
   "cell_type": "code",
   "execution_count": 71,
   "id": "c2efcb9e",
   "metadata": {},
   "outputs": [
    {
     "data": {
      "text/html": [
       "<div>\n",
       "<style scoped>\n",
       "    .dataframe tbody tr th:only-of-type {\n",
       "        vertical-align: middle;\n",
       "    }\n",
       "\n",
       "    .dataframe tbody tr th {\n",
       "        vertical-align: top;\n",
       "    }\n",
       "\n",
       "    .dataframe thead th {\n",
       "        text-align: right;\n",
       "    }\n",
       "</style>\n",
       "<table border=\"1\" class=\"dataframe\">\n",
       "  <thead>\n",
       "    <tr style=\"text-align: right;\">\n",
       "      <th></th>\n",
       "      <th>사용월</th>\n",
       "      <th>호선명</th>\n",
       "      <th>지하철역</th>\n",
       "      <th>04시-05시 승차인원</th>\n",
       "      <th>04시-05시 하차인원</th>\n",
       "      <th>05시-06시 승차인원</th>\n",
       "      <th>05시-06시 하차인원</th>\n",
       "      <th>06시-07시 승차인원</th>\n",
       "      <th>06시-07시 하차인원</th>\n",
       "      <th>07시-08시 승차인원</th>\n",
       "      <th>...</th>\n",
       "      <th>23시-24시 하차인원</th>\n",
       "      <th>00시-01시 승차인원</th>\n",
       "      <th>00시-01시 하차인원</th>\n",
       "      <th>01시-02시 승차인원</th>\n",
       "      <th>01시-02시 하차인원</th>\n",
       "      <th>02시-03시 승차인원</th>\n",
       "      <th>02시-03시 하차인원</th>\n",
       "      <th>03시-04시 승차인원</th>\n",
       "      <th>03시-04시 하차인원</th>\n",
       "      <th>작업일자</th>\n",
       "    </tr>\n",
       "  </thead>\n",
       "  <tbody>\n",
       "    <tr>\n",
       "      <th>0</th>\n",
       "      <td>202208</td>\n",
       "      <td>1호선</td>\n",
       "      <td>동대문</td>\n",
       "      <td>561</td>\n",
       "      <td>16</td>\n",
       "      <td>9859</td>\n",
       "      <td>1842</td>\n",
       "      <td>8375</td>\n",
       "      <td>6305</td>\n",
       "      <td>13390</td>\n",
       "      <td>...</td>\n",
       "      <td>7319</td>\n",
       "      <td>292</td>\n",
       "      <td>1711</td>\n",
       "      <td>0</td>\n",
       "      <td>144</td>\n",
       "      <td>0</td>\n",
       "      <td>0</td>\n",
       "      <td>0</td>\n",
       "      <td>0</td>\n",
       "      <td>20220903</td>\n",
       "    </tr>\n",
       "    <tr>\n",
       "      <th>1</th>\n",
       "      <td>202208</td>\n",
       "      <td>1호선</td>\n",
       "      <td>동묘앞</td>\n",
       "      <td>145</td>\n",
       "      <td>1</td>\n",
       "      <td>2799</td>\n",
       "      <td>1039</td>\n",
       "      <td>3456</td>\n",
       "      <td>4571</td>\n",
       "      <td>5920</td>\n",
       "      <td>...</td>\n",
       "      <td>3281</td>\n",
       "      <td>97</td>\n",
       "      <td>1297</td>\n",
       "      <td>2</td>\n",
       "      <td>270</td>\n",
       "      <td>0</td>\n",
       "      <td>0</td>\n",
       "      <td>0</td>\n",
       "      <td>0</td>\n",
       "      <td>20220903</td>\n",
       "    </tr>\n",
       "    <tr>\n",
       "      <th>2</th>\n",
       "      <td>202208</td>\n",
       "      <td>1호선</td>\n",
       "      <td>서울역</td>\n",
       "      <td>573</td>\n",
       "      <td>19</td>\n",
       "      <td>8638</td>\n",
       "      <td>8274</td>\n",
       "      <td>12332</td>\n",
       "      <td>45706</td>\n",
       "      <td>39560</td>\n",
       "      <td>...</td>\n",
       "      <td>12503</td>\n",
       "      <td>2017</td>\n",
       "      <td>2148</td>\n",
       "      <td>0</td>\n",
       "      <td>208</td>\n",
       "      <td>0</td>\n",
       "      <td>1</td>\n",
       "      <td>0</td>\n",
       "      <td>0</td>\n",
       "      <td>20220903</td>\n",
       "    </tr>\n",
       "    <tr>\n",
       "      <th>3</th>\n",
       "      <td>202208</td>\n",
       "      <td>1호선</td>\n",
       "      <td>시청</td>\n",
       "      <td>39</td>\n",
       "      <td>0</td>\n",
       "      <td>2005</td>\n",
       "      <td>4665</td>\n",
       "      <td>3404</td>\n",
       "      <td>23606</td>\n",
       "      <td>6430</td>\n",
       "      <td>...</td>\n",
       "      <td>2631</td>\n",
       "      <td>320</td>\n",
       "      <td>688</td>\n",
       "      <td>2</td>\n",
       "      <td>7</td>\n",
       "      <td>0</td>\n",
       "      <td>0</td>\n",
       "      <td>0</td>\n",
       "      <td>0</td>\n",
       "      <td>20220903</td>\n",
       "    </tr>\n",
       "    <tr>\n",
       "      <th>4</th>\n",
       "      <td>202208</td>\n",
       "      <td>1호선</td>\n",
       "      <td>신설동</td>\n",
       "      <td>309</td>\n",
       "      <td>22</td>\n",
       "      <td>8586</td>\n",
       "      <td>2260</td>\n",
       "      <td>8758</td>\n",
       "      <td>9028</td>\n",
       "      <td>18458</td>\n",
       "      <td>...</td>\n",
       "      <td>7257</td>\n",
       "      <td>294</td>\n",
       "      <td>1806</td>\n",
       "      <td>0</td>\n",
       "      <td>7</td>\n",
       "      <td>0</td>\n",
       "      <td>0</td>\n",
       "      <td>0</td>\n",
       "      <td>0</td>\n",
       "      <td>20220903</td>\n",
       "    </tr>\n",
       "  </tbody>\n",
       "</table>\n",
       "<p>5 rows × 52 columns</p>\n",
       "</div>"
      ],
      "text/plain": [
       "      사용월  호선명 지하철역  04시-05시 승차인원  04시-05시 하차인원  05시-06시 승차인원  05시-06시 하차인원  \\\n",
       "0  202208  1호선  동대문           561            16          9859          1842   \n",
       "1  202208  1호선  동묘앞           145             1          2799          1039   \n",
       "2  202208  1호선  서울역           573            19          8638          8274   \n",
       "3  202208  1호선   시청            39             0          2005          4665   \n",
       "4  202208  1호선  신설동           309            22          8586          2260   \n",
       "\n",
       "   06시-07시 승차인원  06시-07시 하차인원  07시-08시 승차인원  ...  23시-24시 하차인원  00시-01시 승차인원  \\\n",
       "0          8375          6305         13390  ...          7319           292   \n",
       "1          3456          4571          5920  ...          3281            97   \n",
       "2         12332         45706         39560  ...         12503          2017   \n",
       "3          3404         23606          6430  ...          2631           320   \n",
       "4          8758          9028         18458  ...          7257           294   \n",
       "\n",
       "   00시-01시 하차인원  01시-02시 승차인원  01시-02시 하차인원  02시-03시 승차인원  02시-03시 하차인원  \\\n",
       "0          1711             0           144             0             0   \n",
       "1          1297             2           270             0             0   \n",
       "2          2148             0           208             0             1   \n",
       "3           688             2             7             0             0   \n",
       "4          1806             0             7             0             0   \n",
       "\n",
       "   03시-04시 승차인원  03시-04시 하차인원      작업일자  \n",
       "0             0             0  20220903  \n",
       "1             0             0  20220903  \n",
       "2             0             0  20220903  \n",
       "3             0             0  20220903  \n",
       "4             0             0  20220903  \n",
       "\n",
       "[5 rows x 52 columns]"
      ]
     },
     "execution_count": 71,
     "metadata": {},
     "output_type": "execute_result"
    }
   ],
   "source": [
    "df = pd.read_csv('서울시_지하철_호선별_역별_시간대별_승하차_인원_정보.csv', encoding='CP949')\n",
    "df.head()"
   ]
  },
  {
   "cell_type": "markdown",
   "id": "f34a07fc",
   "metadata": {},
   "source": [
    "#### 3. 2022년 8월 7호선 어린이대공원역의 데이터 추출"
   ]
  },
  {
   "cell_type": "code",
   "execution_count": 72,
   "id": "54d938da",
   "metadata": {},
   "outputs": [
    {
     "data": {
      "text/html": [
       "<div>\n",
       "<style scoped>\n",
       "    .dataframe tbody tr th:only-of-type {\n",
       "        vertical-align: middle;\n",
       "    }\n",
       "\n",
       "    .dataframe tbody tr th {\n",
       "        vertical-align: top;\n",
       "    }\n",
       "\n",
       "    .dataframe thead th {\n",
       "        text-align: right;\n",
       "    }\n",
       "</style>\n",
       "<table border=\"1\" class=\"dataframe\">\n",
       "  <thead>\n",
       "    <tr style=\"text-align: right;\">\n",
       "      <th></th>\n",
       "      <th>04시-05시 승차인원</th>\n",
       "      <th>04시-05시 하차인원</th>\n",
       "      <th>05시-06시 승차인원</th>\n",
       "      <th>05시-06시 하차인원</th>\n",
       "      <th>06시-07시 승차인원</th>\n",
       "      <th>06시-07시 하차인원</th>\n",
       "      <th>07시-08시 승차인원</th>\n",
       "      <th>07시-08시 하차인원</th>\n",
       "      <th>08시-09시 승차인원</th>\n",
       "      <th>08시-09시 하차인원</th>\n",
       "      <th>...</th>\n",
       "      <th>23시-24시 승차인원</th>\n",
       "      <th>23시-24시 하차인원</th>\n",
       "      <th>00시-01시 승차인원</th>\n",
       "      <th>00시-01시 하차인원</th>\n",
       "      <th>01시-02시 승차인원</th>\n",
       "      <th>01시-02시 하차인원</th>\n",
       "      <th>02시-03시 승차인원</th>\n",
       "      <th>02시-03시 하차인원</th>\n",
       "      <th>03시-04시 승차인원</th>\n",
       "      <th>03시-04시 하차인원</th>\n",
       "    </tr>\n",
       "  </thead>\n",
       "  <tbody>\n",
       "    <tr>\n",
       "      <th>248</th>\n",
       "      <td>3</td>\n",
       "      <td>0</td>\n",
       "      <td>3299</td>\n",
       "      <td>898</td>\n",
       "      <td>7572</td>\n",
       "      <td>7754</td>\n",
       "      <td>19227</td>\n",
       "      <td>15131</td>\n",
       "      <td>32560</td>\n",
       "      <td>46417</td>\n",
       "      <td>...</td>\n",
       "      <td>6695</td>\n",
       "      <td>10026</td>\n",
       "      <td>1035</td>\n",
       "      <td>2689</td>\n",
       "      <td>0</td>\n",
       "      <td>9</td>\n",
       "      <td>0</td>\n",
       "      <td>0</td>\n",
       "      <td>0</td>\n",
       "      <td>0</td>\n",
       "    </tr>\n",
       "  </tbody>\n",
       "</table>\n",
       "<p>1 rows × 48 columns</p>\n",
       "</div>"
      ],
      "text/plain": [
       "     04시-05시 승차인원  04시-05시 하차인원  05시-06시 승차인원  05시-06시 하차인원  06시-07시 승차인원  \\\n",
       "248             3             0          3299           898          7572   \n",
       "\n",
       "     06시-07시 하차인원  07시-08시 승차인원  07시-08시 하차인원  08시-09시 승차인원  08시-09시 하차인원  \\\n",
       "248          7754         19227         15131         32560         46417   \n",
       "\n",
       "     ...  23시-24시 승차인원  23시-24시 하차인원  00시-01시 승차인원  00시-01시 하차인원  \\\n",
       "248  ...          6695         10026          1035          2689   \n",
       "\n",
       "     01시-02시 승차인원  01시-02시 하차인원  02시-03시 승차인원  02시-03시 하차인원  03시-04시 승차인원  \\\n",
       "248             0             9             0             0             0   \n",
       "\n",
       "     03시-04시 하차인원  \n",
       "248             0  \n",
       "\n",
       "[1 rows x 48 columns]"
      ]
     },
     "execution_count": 72,
     "metadata": {},
     "output_type": "execute_result"
    }
   ],
   "source": [
    "sejong_univ_station = df.loc[(df['사용월'] == 202208) & (df['지하철역'] == '어린이대공원(세종대)')]\n",
    "\n",
    "# 8월 시간대별로 추출\n",
    "sejong_univ_station = sejong_univ_station.iloc[: , 3:-1]\n",
    "sejong_univ_station"
   ]
  },
  {
   "cell_type": "markdown",
   "id": "bd121f09",
   "metadata": {},
   "source": [
    "#### 4. 선 그래프에 사용될 데이터 정리하기"
   ]
  },
  {
   "cell_type": "code",
   "execution_count": 73,
   "id": "9fe2586c",
   "metadata": {},
   "outputs": [
    {
     "data": {
      "text/plain": [
       "[3,\n",
       " 3299,\n",
       " 7572,\n",
       " 19227,\n",
       " 32560,\n",
       " 23765,\n",
       " 14138,\n",
       " 13421,\n",
       " 17063,\n",
       " 17127,\n",
       " 17843,\n",
       " 22296,\n",
       " 27167,\n",
       " 37565,\n",
       " 40634,\n",
       " 21410,\n",
       " 15914,\n",
       " 17761,\n",
       " 14535,\n",
       " 6695,\n",
       " 1035,\n",
       " 0,\n",
       " 0,\n",
       " 0]"
      ]
     },
     "execution_count": 73,
     "metadata": {},
     "output_type": "execute_result"
    }
   ],
   "source": [
    "# 8월 시간대별 승차 인원 추출\n",
    "sejong_univ_station_on = sejong_univ_station.filter(regex='승차인원')\n",
    "sejong_univ_station_on\n",
    "\n",
    "# DataFrame -> List로 변환\n",
    "on_list = sejong_univ_station_on.iloc[0].to_list()\n",
    "on_list"
   ]
  },
  {
   "cell_type": "code",
   "execution_count": 74,
   "id": "0c4ec264",
   "metadata": {},
   "outputs": [
    {
     "data": {
      "text/plain": [
       "[0,\n",
       " 898,\n",
       " 7754,\n",
       " 15131,\n",
       " 46417,\n",
       " 31905,\n",
       " 21613,\n",
       " 17667,\n",
       " 19682,\n",
       " 20670,\n",
       " 17438,\n",
       " 18038,\n",
       " 19056,\n",
       " 23232,\n",
       " 32624,\n",
       " 23964,\n",
       " 14508,\n",
       " 12842,\n",
       " 13874,\n",
       " 10026,\n",
       " 2689,\n",
       " 9,\n",
       " 0,\n",
       " 0]"
      ]
     },
     "execution_count": 74,
     "metadata": {},
     "output_type": "execute_result"
    }
   ],
   "source": [
    "# 8월 시간대별 하차 인원 추출\n",
    "sejong_univ_station_off = sejong_univ_station.filter(regex='하차인원')\n",
    "sejong_univ_station_off\n",
    "\n",
    "# DataFrame -> List로 변환\n",
    "off_list = sejong_univ_station_off.iloc[0].to_list()\n",
    "off_list"
   ]
  },
  {
   "cell_type": "code",
   "execution_count": 75,
   "id": "a2c80c42",
   "metadata": {},
   "outputs": [
    {
     "data": {
      "text/plain": [
       "['04-05',\n",
       " '05-06',\n",
       " '06-07',\n",
       " '07-08',\n",
       " '08-09',\n",
       " '09-10',\n",
       " '10-11',\n",
       " '11-12',\n",
       " '12-13',\n",
       " '13-14',\n",
       " '14-15',\n",
       " '15-16',\n",
       " '16-17',\n",
       " '17-18',\n",
       " '18-19',\n",
       " '19-20',\n",
       " '20-21',\n",
       " '21-22',\n",
       " '22-23',\n",
       " '23-24',\n",
       " '00-01',\n",
       " '01-02',\n",
       " '02-03',\n",
       " '03-04']"
      ]
     },
     "execution_count": 75,
     "metadata": {},
     "output_type": "execute_result"
    }
   ],
   "source": [
    "# x축 시간 구간 추출\n",
    "time_intervals = sejong_univ_station_off.columns.values.tolist()\n",
    "\n",
    "for i in time_intervals:\n",
    "    index = time_intervals.index(i)\n",
    "    time_intervals[index] = time_intervals[index][0:2] + time_intervals[index][3] + time_intervals[index][4:6]\n",
    "\n",
    "time_intervals"
   ]
  },
  {
   "cell_type": "markdown",
   "id": "b511929f",
   "metadata": {},
   "source": [
    "#### 5. 그래프 그리기"
   ]
  },
  {
   "cell_type": "code",
   "execution_count": 76,
   "id": "f49fe517",
   "metadata": {},
   "outputs": [
    {
     "data": {
      "image/png": "[encoded data removed]",
      "text/plain": [
       "<Figure size 1296x648 with 1 Axes>"
      ]
     },
     "metadata": {
      "needs_background": "light"
     },
     "output_type": "display_data"
    }
   ],
   "source": [
    "# 그래프를 그릴 도화지 준비하기\n",
    "fig = plt.figure(figsize=(18,9))\n",
    "ax = fig.add_subplot(1, 1, 1)\n",
    "\n",
    "# x축에 시간, y축에 인구수가 있는 선 그래프 만들기\n",
    "plt.plot(range(24), on_list, color='green', marker='o', linestyle='solid', label='get on')\n",
    "plt.plot(range(24), off_list, color='red', marker='o', linestyle='solid', label='get off')\n",
    "\n",
    "plt.xticks(range(24), time_intervals)\n",
    "\n",
    "plt.title(\"Changes in the number of people getting on and off by time zone in August 2022\", fontsize=15)\n",
    "plt.ylabel(\"the number of people\")\n",
    "\n",
    "plt.legend()\n",
    "plt.show()\n",
    "\n"
   ]
  },
  {
   "cell_type": "markdown",
   "id": "80e0bfc5",
   "metadata": {},
   "source": [
    "<br/>"
   ]
  },
  {
   "cell_type": "markdown",
   "id": "aa5d8bb5",
   "metadata": {},
   "source": [
    "# 실습 2.  실습 3."
   ]
  },
  {
   "cell_type": "markdown",
   "id": "5d3c9362",
   "metadata": {},
   "source": [
    "### 2022년 1월부터 6월까지 서울시 공공자전거 신규가입자 정보"
   ]
  },
  {
   "cell_type": "markdown",
   "id": "841aa3a9",
   "metadata": {},
   "source": [
    "# 실습 2. 2022년 5월 서울시 공공자전거 신규가입자 성별 및 연령대  비교\n",
    "http://data.seoul.go.kr/dataList/OA-15241/S/1/datasetView.do"
   ]
  },
  {
   "cell_type": "markdown",
   "id": "96389ea9",
   "metadata": {},
   "source": [
    "#### 1. 라이브러리 import"
   ]
  },
  {
   "cell_type": "code",
   "execution_count": 128,
   "id": "72ab8487",
   "metadata": {},
   "outputs": [],
   "source": [
    "import pandas as pd\n",
    "import numpy as np\n",
    "import matplotlib.pyplot as plt"
   ]
  },
  {
   "cell_type": "markdown",
   "id": "cd291d28",
   "metadata": {},
   "source": [
    "#### 2. csv 파일 불러오기"
   ]
  },
  {
   "cell_type": "code",
   "execution_count": 28,
   "id": "8ee413fd",
   "metadata": {},
   "outputs": [
    {
     "data": {
      "text/html": [
       "<div>\n",
       "<style scoped>\n",
       "    .dataframe tbody tr th:only-of-type {\n",
       "        vertical-align: middle;\n",
       "    }\n",
       "\n",
       "    .dataframe tbody tr th {\n",
       "        vertical-align: top;\n",
       "    }\n",
       "\n",
       "    .dataframe thead th {\n",
       "        text-align: right;\n",
       "    }\n",
       "</style>\n",
       "<table border=\"1\" class=\"dataframe\">\n",
       "  <thead>\n",
       "    <tr style=\"text-align: right;\">\n",
       "      <th></th>\n",
       "      <th>가입일시</th>\n",
       "      <th>사용자코드</th>\n",
       "      <th>연령대코드</th>\n",
       "      <th>성별</th>\n",
       "      <th>가입 수</th>\n",
       "    </tr>\n",
       "  </thead>\n",
       "  <tbody>\n",
       "    <tr>\n",
       "      <th>0</th>\n",
       "      <td>202201</td>\n",
       "      <td>회원-내국인</td>\n",
       "      <td>10대</td>\n",
       "      <td>F</td>\n",
       "      <td>112</td>\n",
       "    </tr>\n",
       "    <tr>\n",
       "      <th>1</th>\n",
       "      <td>202201</td>\n",
       "      <td>회원-내국인</td>\n",
       "      <td>10대</td>\n",
       "      <td>F</td>\n",
       "      <td>997</td>\n",
       "    </tr>\n",
       "    <tr>\n",
       "      <th>2</th>\n",
       "      <td>202201</td>\n",
       "      <td>회원-내국인</td>\n",
       "      <td>10대</td>\n",
       "      <td>M</td>\n",
       "      <td>89</td>\n",
       "    </tr>\n",
       "    <tr>\n",
       "      <th>3</th>\n",
       "      <td>202201</td>\n",
       "      <td>회원-내국인</td>\n",
       "      <td>10대</td>\n",
       "      <td>M</td>\n",
       "      <td>1264</td>\n",
       "    </tr>\n",
       "    <tr>\n",
       "      <th>4</th>\n",
       "      <td>202201</td>\n",
       "      <td>회원-내국인</td>\n",
       "      <td>20대</td>\n",
       "      <td>F</td>\n",
       "      <td>198</td>\n",
       "    </tr>\n",
       "  </tbody>\n",
       "</table>\n",
       "</div>"
      ],
      "text/plain": [
       "     가입일시   사용자코드 연령대코드 성별  가입 수\n",
       "0  202201  회원-내국인   10대  F   112\n",
       "1  202201  회원-내국인   10대  F   997\n",
       "2  202201  회원-내국인   10대  M    89\n",
       "3  202201  회원-내국인   10대  M  1264\n",
       "4  202201  회원-내국인   20대  F   198"
      ]
     },
     "execution_count": 28,
     "metadata": {},
     "output_type": "execute_result"
    }
   ],
   "source": [
    "df = pd.read_csv('서울특별시_공공자전거_신규가입자_정보(월별)_22.01_22.06.csv', encoding='CP949')\n",
    "df.head()"
   ]
  },
  {
   "cell_type": "markdown",
   "id": "ec5310a2",
   "metadata": {},
   "source": [
    "#### 3. 남성과 여성 데이터 추출"
   ]
  },
  {
   "cell_type": "code",
   "execution_count": 29,
   "id": "8cd8b3e0",
   "metadata": {},
   "outputs": [
    {
     "name": "stdout",
     "output_type": "stream",
     "text": [
      "5월 10대 남성 신규 가입자: 8554\n",
      "5월 20대 남성 신규 가입자: 18926\n",
      "5월 30대 남성 신규 가입자: 11753\n",
      "5월 40대 남성 신규 가입자: 7369\n",
      "5월 50대 남성 신규 가입자: 3826\n",
      "5월 60대 남성 신규 가입자: 1242\n",
      "5월 70대이상 남성 신규 가입자: 232\n"
     ]
    },
    {
     "data": {
      "text/plain": [
       "[8554, 18926, 11753, 7369, 3826, 1242, 232]"
      ]
     },
     "execution_count": 29,
     "metadata": {},
     "output_type": "execute_result"
    }
   ],
   "source": [
    "# 5월 10대 남성 신규 가입자\n",
    "male_10_df = df[(df['가입일시'] == 202205) & (df['연령대코드'].str.contains('10대')) & (df['성별'] == 'M')]\n",
    "male_10 = male_10_df['가입 수'].sum(axis=0)\n",
    "print(\"5월 10대 남성 신규 가입자:\", male_10)\n",
    "\n",
    "# 5월 20대 남성 신규 가입자\n",
    "male_20_df = df[(df['가입일시'] == 202205) & (df['연령대코드'].str.contains('20대')) & (df['성별'] == 'M')]\n",
    "male_20 = male_20_df['가입 수'].sum(axis=0)\n",
    "print(\"5월 20대 남성 신규 가입자:\", male_20)\n",
    "\n",
    "# 5월 30대 남성 신규 가입자\n",
    "male_30_df = df[(df['가입일시'] == 202205) & (df['연령대코드'].str.contains('30대')) & (df['성별'] == 'M')]\n",
    "male_30 = male_30_df['가입 수'].sum(axis=0)\n",
    "print(\"5월 30대 남성 신규 가입자:\", male_30)\n",
    "\n",
    "# 5월 40대 남성 신규 가입자\n",
    "male_40_df = df[(df['가입일시'] == 202205) & (df['연령대코드'].str.contains('40대')) & (df['성별'] == 'M')]\n",
    "male_40 = male_40_df['가입 수'].sum(axis=0)\n",
    "print(\"5월 40대 남성 신규 가입자:\", male_40)\n",
    "\n",
    "# 5월 50대 남성 신규 가입자\n",
    "male_50_df = df[(df['가입일시'] == 202205) & (df['연령대코드'].str.contains('50대')) & (df['성별'] == 'M')]\n",
    "male_50 = male_50_df['가입 수'].sum(axis=0)\n",
    "print(\"5월 50대 남성 신규 가입자:\", male_50)\n",
    "\n",
    "# 5월 60대 남성 신규 가입자\n",
    "male_60_df = df[(df['가입일시'] == 202205) & (df['연령대코드'].str.contains('60대')) & (df['성별'] == 'M')]\n",
    "male_60 = male_60_df['가입 수'].sum(axis=0)\n",
    "print(\"5월 60대 남성 신규 가입자:\", male_60)\n",
    "\n",
    "# 5월 70대이상 남성 신규 가입자\n",
    "male_70_df = df[(df['가입일시'] == 202205) & (df['연령대코드'].str.contains('70대이상')) & (df['성별'] == 'M')]\n",
    "male_70 = male_70_df['가입 수'].sum(axis=0)\n",
    "print(\"5월 70대이상 남성 신규 가입자:\", male_70)\n",
    "\n",
    "male = [male_10, male_20, male_30, male_40, male_50, male_60, male_70]\n",
    "male"
   ]
  },
  {
   "cell_type": "code",
   "execution_count": 31,
   "id": "81c163f9",
   "metadata": {},
   "outputs": [
    {
     "name": "stdout",
     "output_type": "stream",
     "text": [
      "5월 10대 여성 신규 가입자: 7184\n",
      "5월 20대 여성 신규 가입자: 19893\n",
      "5월 30대 여성 신규 가입자: 9337\n",
      "5월 40대 여성 신규 가입자: 5962\n",
      "5월 50대 여성 신규 가입자: 3117\n",
      "5월 60대 여성 신규 가입자: 779\n",
      "5월 70대이상 여성 신규 가입자: 126\n"
     ]
    },
    {
     "data": {
      "text/plain": [
       "[7184, 19893, 9337, 5962, 3117, 779, 126]"
      ]
     },
     "execution_count": 31,
     "metadata": {},
     "output_type": "execute_result"
    }
   ],
   "source": [
    "# 5월 10대 여성 신규 가입자\n",
    "female_10_df = df[(df['가입일시'] == 202205) & (df['연령대코드'].str.contains('10대')) & (df['성별'] == 'F')]\n",
    "female_10 = female_10_df['가입 수'].sum(axis=0)\n",
    "print(\"5월 10대 여성 신규 가입자:\", female_10)\n",
    "\n",
    "# 5월 20대 여성 신규 가입자\n",
    "female_20_df = df[(df['가입일시'] == 202205) & (df['연령대코드'].str.contains('20대')) & (df['성별'] == 'F')]\n",
    "female_20 = female_20_df['가입 수'].sum(axis=0)\n",
    "print(\"5월 20대 여성 신규 가입자:\", female_20)\n",
    "\n",
    "# 5월 30대 여성 신규 가입자\n",
    "female_30_df = df[(df['가입일시'] == 202205) & (df['연령대코드'].str.contains('30대')) & (df['성별'] == 'F')]\n",
    "female_30 = female_30_df['가입 수'].sum(axis=0)\n",
    "print(\"5월 30대 여성 신규 가입자:\", female_30)\n",
    "\n",
    "# 5월 40대 여성 신규 가입자\n",
    "female_40_df = df[(df['가입일시'] == 202205) & (df['연령대코드'].str.contains('40대')) & (df['성별'] == 'F')]\n",
    "female_40 = female_40_df['가입 수'].sum(axis=0)\n",
    "print(\"5월 40대 여성 신규 가입자:\", female_40)\n",
    "\n",
    "# 5월 50대 여성 신규 가입자\n",
    "female_50_df = df[(df['가입일시'] == 202205) & (df['연령대코드'].str.contains('50대')) & (df['성별'] == 'F')]\n",
    "female_50 = female_50_df['가입 수'].sum(axis=0)\n",
    "print(\"5월 50대 여성 신규 가입자:\", female_50)\n",
    "\n",
    "# 5월 60대 여성 신규 가입자\n",
    "female_60_df = df[(df['가입일시'] == 202205) & (df['연령대코드'].str.contains('60대')) & (df['성별'] == 'F')]\n",
    "female_60 = female_60_df['가입 수'].sum(axis=0)\n",
    "print(\"5월 60대 여성 신규 가입자:\", female_60)\n",
    "\n",
    "# 5월 70대이상 여성 신규 가입자\n",
    "female_70_df = df[(df['가입일시'] == 202205) & (df['연령대코드'].str.contains('70대이상')) & (df['성별'] == 'F')]\n",
    "female_70 = female_70_df['가입 수'].sum(axis=0)\n",
    "print(\"5월 70대이상 여성 신규 가입자:\", female_70)\n",
    "\n",
    "female = [female_10, female_20, female_30, female_40, female_50, female_60, female_70]\n",
    "female"
   ]
  },
  {
   "cell_type": "markdown",
   "id": "8bc51ce6",
   "metadata": {},
   "source": [
    "#### 4. 그래프 그리기"
   ]
  },
  {
   "cell_type": "code",
   "execution_count": 34,
   "id": "3e91283d",
   "metadata": {},
   "outputs": [
    {
     "data": {
      "image/png": "[encoded data removed]",
      "text/plain": [
       "<Figure size 1080x1080 with 2 Axes>"
      ]
     },
     "metadata": {},
     "output_type": "display_data"
    }
   ],
   "source": [
    "classes = ['10s', '20s', '30s', '40s', '50s', '60s', '70s']\n",
    "explode = [0.0, 0.1, 0.0, 0.0, 0.0, 0.0, 0.0]\n",
    "colors = ['#e6f2ff','#99ccff','#ccccff','#cc99ff','#ff99ff','#ff6699','#ff9966']\n",
    "\n",
    "fig, (ax1, ax2) = plt.subplots(1, 2, figsize=(15, 15))\n",
    "\n",
    "ax1.pie(male, explode=explode, autopct='%1.1f%%', colors=colors, shadow=True, labels=classes)\n",
    "ax1.set_title(\"May 2022, new male public bicycle subscribers in Seoul\", fontsize=15)\n",
    "\n",
    "ax2.pie(female, explode=explode, autopct='%1.1f%%', colors=colors, shadow=True, labels=classes)\n",
    "ax2.set_title(\"May 2022, new female public bicycle subscribers in Seoul\", fontsize=15)\n",
    "\n",
    "\n",
    "plt.show()"
   ]
  },
  {
   "cell_type": "markdown",
   "id": "86774bd7",
   "metadata": {},
   "source": [
    "# 실습 3. 2022년 1월부터 6월까지 서울시 공공자전거 신규가입자 월별 비교"
   ]
  },
  {
   "cell_type": "markdown",
   "id": "b84e8708",
   "metadata": {},
   "source": [
    "#### 3. 월별 신규가입자 추출"
   ]
  },
  {
   "cell_type": "code",
   "execution_count": 263,
   "id": "37728b4e",
   "metadata": {},
   "outputs": [
    {
     "name": "stdout",
     "output_type": "stream",
     "text": [
      "월별 신규 남성 가입자 수: [7269, 9472, 21149, 46622, 51993, 37867]\n",
      "월별 신규 여성 가입자 수: [5589, 8215, 20041, 45287, 46793, 30473]\n"
     ]
    }
   ],
   "source": [
    "# 월별 신규 가입자 추출\n",
    "male = df[df['성별'] == 'M'].groupby('가입일시')['가입 수'].sum().tolist()\n",
    "female = df[df['성별'] == 'F'].groupby('가입일시')['가입 수']. sum().tolist()\n",
    "\n",
    "# # 가입일시\n",
    "sub_date = df['가입일시'].unique().tolist()\n",
    "\n",
    "print(\"월별 신규 남성 가입자 수:\", male)\n",
    "print(\"월별 신규 여성 가입자 수:\", female)"
   ]
  },
  {
   "cell_type": "markdown",
   "id": "a193c553",
   "metadata": {},
   "source": [
    "#### 4. 그래프 그리기"
   ]
  },
  {
   "cell_type": "code",
   "execution_count": 262,
   "id": "c987202e",
   "metadata": {},
   "outputs": [
    {
     "data": {
      "image/png": "[encoded data removed]",
      "text/plain": [
       "<Figure size 432x288 with 1 Axes>"
      ]
     },
     "metadata": {
      "needs_background": "light"
     },
     "output_type": "display_data"
    }
   ],
   "source": [
    "fig = plt.figure(figsize=(12,9))\n",
    "\n",
    "label = ['01', '02', '03', '04', '05', '06']\n",
    "\n",
    "plt.bar(label, male, color='b')\n",
    "plt.bar(label, female, bottom=male, color='r')\n",
    "\n",
    "plt.xlabel(\"Month\")\n",
    "plt.ylabel(\"Join\")\n",
    "plt.legend(['Male', 'Female'])\n",
    "plt.title(\"Monthly comparison of new public bicycle subscribers in Seoul from January to June 2022\")\n",
    "\n",
    "plt.show()"
   ]
  },
  {
   "cell_type": "markdown",
   "id": "2ce17c75",
   "metadata": {},
   "source": [
    "<br/>"
   ]
  },
  {
   "cell_type": "markdown",
   "id": "dc1a908d",
   "metadata": {},
   "source": [
    "# 실습 4.\n",
    "\n",
    "### 2022년 1월부터 8월까지 광진구, 노원구, 강남구 코로나19 추가 확진자 발생 동향\n",
    "\n",
    "http://data.seoul.go.kr/dataList/OA-20470/S/1/datasetView.do"
   ]
  },
  {
   "cell_type": "markdown",
   "id": "0f5eed8d",
   "metadata": {},
   "source": [
    "#### 1. 라이브러리 import"
   ]
  },
  {
   "cell_type": "code",
   "execution_count": 1,
   "id": "379e6b6f",
   "metadata": {},
   "outputs": [],
   "source": [
    "import pandas as pd\n",
    "import numpy as np\n",
    "import matplotlib.pyplot as plt"
   ]
  },
  {
   "cell_type": "markdown",
   "id": "02ea5dd8",
   "metadata": {},
   "source": [
    "#### 2. csv 파일 불러오기"
   ]
  },
  {
   "cell_type": "code",
   "execution_count": 2,
   "id": "eb188130",
   "metadata": {},
   "outputs": [
    {
     "data": {
      "text/html": [
       "<div>\n",
       "<style scoped>\n",
       "    .dataframe tbody tr th:only-of-type {\n",
       "        vertical-align: middle;\n",
       "    }\n",
       "\n",
       "    .dataframe tbody tr th {\n",
       "        vertical-align: top;\n",
       "    }\n",
       "\n",
       "    .dataframe thead th {\n",
       "        text-align: right;\n",
       "    }\n",
       "</style>\n",
       "<table border=\"1\" class=\"dataframe\">\n",
       "  <thead>\n",
       "    <tr style=\"text-align: right;\">\n",
       "      <th></th>\n",
       "      <th>자치구 기준일</th>\n",
       "      <th>종로구 전체</th>\n",
       "      <th>종로구 추가</th>\n",
       "      <th>중구 전체</th>\n",
       "      <th>중구 추가</th>\n",
       "      <th>용산구 전체</th>\n",
       "      <th>용산구 추가</th>\n",
       "      <th>성동구 전체</th>\n",
       "      <th>성동구 추가</th>\n",
       "      <th>광진구 전체</th>\n",
       "      <th>...</th>\n",
       "      <th>서초구 전체</th>\n",
       "      <th>서추구 추가</th>\n",
       "      <th>강남구 전체</th>\n",
       "      <th>강남구 추가</th>\n",
       "      <th>송파구 전체</th>\n",
       "      <th>송파구 추가</th>\n",
       "      <th>강동구 전체</th>\n",
       "      <th>강동구 추가</th>\n",
       "      <th>기타 전체</th>\n",
       "      <th>기타 추가</th>\n",
       "    </tr>\n",
       "  </thead>\n",
       "  <tbody>\n",
       "    <tr>\n",
       "      <th>0</th>\n",
       "      <td>2022.09.19.00</td>\n",
       "      <td>63793</td>\n",
       "      <td>39</td>\n",
       "      <td>57613</td>\n",
       "      <td>37</td>\n",
       "      <td>99122</td>\n",
       "      <td>53</td>\n",
       "      <td>137131</td>\n",
       "      <td>69</td>\n",
       "      <td>166801</td>\n",
       "      <td>...</td>\n",
       "      <td>189421</td>\n",
       "      <td>134</td>\n",
       "      <td>243796</td>\n",
       "      <td>170</td>\n",
       "      <td>311011</td>\n",
       "      <td>170</td>\n",
       "      <td>217173</td>\n",
       "      <td>174</td>\n",
       "      <td>293058</td>\n",
       "      <td>164</td>\n",
       "    </tr>\n",
       "    <tr>\n",
       "      <th>1</th>\n",
       "      <td>2022.09.18.00</td>\n",
       "      <td>63754</td>\n",
       "      <td>68</td>\n",
       "      <td>57576</td>\n",
       "      <td>70</td>\n",
       "      <td>99069</td>\n",
       "      <td>104</td>\n",
       "      <td>137062</td>\n",
       "      <td>142</td>\n",
       "      <td>166691</td>\n",
       "      <td>...</td>\n",
       "      <td>189287</td>\n",
       "      <td>241</td>\n",
       "      <td>243626</td>\n",
       "      <td>271</td>\n",
       "      <td>310841</td>\n",
       "      <td>341</td>\n",
       "      <td>216999</td>\n",
       "      <td>292</td>\n",
       "      <td>292894</td>\n",
       "      <td>274</td>\n",
       "    </tr>\n",
       "    <tr>\n",
       "      <th>2</th>\n",
       "      <td>2022.09.17.00</td>\n",
       "      <td>63686</td>\n",
       "      <td>107</td>\n",
       "      <td>57506</td>\n",
       "      <td>86</td>\n",
       "      <td>98965</td>\n",
       "      <td>151</td>\n",
       "      <td>136920</td>\n",
       "      <td>204</td>\n",
       "      <td>166471</td>\n",
       "      <td>...</td>\n",
       "      <td>189046</td>\n",
       "      <td>245</td>\n",
       "      <td>243355</td>\n",
       "      <td>296</td>\n",
       "      <td>310500</td>\n",
       "      <td>485</td>\n",
       "      <td>216707</td>\n",
       "      <td>340</td>\n",
       "      <td>292620</td>\n",
       "      <td>498</td>\n",
       "    </tr>\n",
       "    <tr>\n",
       "      <th>3</th>\n",
       "      <td>2022.09.16.00</td>\n",
       "      <td>63579</td>\n",
       "      <td>146</td>\n",
       "      <td>57420</td>\n",
       "      <td>105</td>\n",
       "      <td>98814</td>\n",
       "      <td>172</td>\n",
       "      <td>136717</td>\n",
       "      <td>257</td>\n",
       "      <td>166196</td>\n",
       "      <td>...</td>\n",
       "      <td>188801</td>\n",
       "      <td>329</td>\n",
       "      <td>243059</td>\n",
       "      <td>397</td>\n",
       "      <td>310015</td>\n",
       "      <td>605</td>\n",
       "      <td>216367</td>\n",
       "      <td>449</td>\n",
       "      <td>292125</td>\n",
       "      <td>588</td>\n",
       "    </tr>\n",
       "    <tr>\n",
       "      <th>4</th>\n",
       "      <td>2022.09.15.00</td>\n",
       "      <td>63433</td>\n",
       "      <td>163</td>\n",
       "      <td>57315</td>\n",
       "      <td>111</td>\n",
       "      <td>98642</td>\n",
       "      <td>228</td>\n",
       "      <td>136460</td>\n",
       "      <td>273</td>\n",
       "      <td>165849</td>\n",
       "      <td>...</td>\n",
       "      <td>188472</td>\n",
       "      <td>418</td>\n",
       "      <td>242662</td>\n",
       "      <td>521</td>\n",
       "      <td>309410</td>\n",
       "      <td>690</td>\n",
       "      <td>215918</td>\n",
       "      <td>496</td>\n",
       "      <td>291533</td>\n",
       "      <td>823</td>\n",
       "    </tr>\n",
       "  </tbody>\n",
       "</table>\n",
       "<p>5 rows × 53 columns</p>\n",
       "</div>"
      ],
      "text/plain": [
       "         자치구 기준일  종로구 전체  종로구 추가  중구 전체  중구 추가  용산구 전체  용산구 추가  성동구 전체  \\\n",
       "0  2022.09.19.00   63793      39  57613     37   99122      53  137131   \n",
       "1  2022.09.18.00   63754      68  57576     70   99069     104  137062   \n",
       "2  2022.09.17.00   63686     107  57506     86   98965     151  136920   \n",
       "3  2022.09.16.00   63579     146  57420    105   98814     172  136717   \n",
       "4  2022.09.15.00   63433     163  57315    111   98642     228  136460   \n",
       "\n",
       "   성동구 추가  광진구 전체  ...  서초구 전체  서추구 추가  강남구 전체  강남구 추가  송파구 전체  송파구 추가  \\\n",
       "0      69  166801  ...  189421     134  243796     170  311011     170   \n",
       "1     142  166691  ...  189287     241  243626     271  310841     341   \n",
       "2     204  166471  ...  189046     245  243355     296  310500     485   \n",
       "3     257  166196  ...  188801     329  243059     397  310015     605   \n",
       "4     273  165849  ...  188472     418  242662     521  309410     690   \n",
       "\n",
       "   강동구 전체  강동구 추가   기타 전체  기타 추가  \n",
       "0  217173     174  293058    164  \n",
       "1  216999     292  292894    274  \n",
       "2  216707     340  292620    498  \n",
       "3  216367     449  292125    588  \n",
       "4  215918     496  291533    823  \n",
       "\n",
       "[5 rows x 53 columns]"
      ]
     },
     "execution_count": 2,
     "metadata": {},
     "output_type": "execute_result"
    }
   ],
   "source": [
    "df = pd.read_csv('서울시_코로나19_자치구별_확진자_발생동향.csv', encoding='CP949')\n",
    "df.head()"
   ]
  },
  {
   "cell_type": "markdown",
   "id": "1bb2ecc9",
   "metadata": {},
   "source": [
    "#### 3. 2022년 1월~8월 광진구, 노원구, 강남구 코로나 19 추가 확진자 추출"
   ]
  },
  {
   "cell_type": "code",
   "execution_count": 5,
   "id": "501f6ea6",
   "metadata": {},
   "outputs": [
    {
     "data": {
      "text/plain": [
       "['01', '02', '03', '04', '05', '06', '07', '08']"
      ]
     },
     "execution_count": 5,
     "metadata": {},
     "output_type": "execute_result"
    }
   ],
   "source": [
    "# 2022년 데이터 추출\n",
    "df_date = df[df['자치구 기준일'].str.contains('2022')]\n",
    "\n",
    "# 2022년 1월 ~ 8월 데이터 추출\n",
    "df_date = df_date.iloc[19:]\n",
    "\n",
    "# 데이터프레임 역순으로 변경\n",
    "df_date = df_date.iloc[::-1]\n",
    "df_date\n",
    "\n",
    "# 2022년 1월 ~ 8월 날짜 슬라이싱 date = '2022.01'\n",
    "date = df_date['자치구 기준일'].tolist()\n",
    "\n",
    "for i in date:\n",
    "    index = date.index(i)\n",
    "    date[index] = date[index][0:7]\n",
    "    \n",
    "# 1월 ~ 8월 슬라이싱 month = '01' \n",
    "month = sorted(month)\n",
    "\n",
    "for i in month:\n",
    "    index = month.index(i)\n",
    "    month[index] = month[index][5:7]\n",
    "    \n",
    "month\n"
   ]
  },
  {
   "cell_type": "code",
   "execution_count": 6,
   "id": "781f22f0",
   "metadata": {},
   "outputs": [
    {
     "data": {
      "text/plain": [
       "[2080, 18407, 70726, 24442, 4745, 1656, 11048, 19866]"
      ]
     },
     "execution_count": 6,
     "metadata": {},
     "output_type": "execute_result"
    }
   ],
   "source": [
    "# 2022년 1월 ~ 8월 광진구 월별 코로나19 추가 확진자 데이터 추출 \n",
    "gwangjin_gu_df = df_date[['자치구 기준일', '광진구 추가']]\n",
    "\n",
    "# '자치구 기준일' 일-> 월로 슬라이싱 E.g) 2022.08.31.00 -> 2022.08\n",
    "for i, row in gwangjin_gu_df.iterrows():\n",
    "    gwangjin_gu_df.loc[i, '자치구 기준일'] = gwangjin_gu_df.loc[i, '자치구 기준일'][0:7]\n",
    "\n",
    "gwangjin_gu = gwangjin_gu_df.groupby('자치구 기준일')['광진구 추가'].sum().tolist()\n",
    "gwangjin_gu"
   ]
  },
  {
   "cell_type": "code",
   "execution_count": 7,
   "id": "a66032e6",
   "metadata": {},
   "outputs": [
    {
     "data": {
      "text/plain": [
       "[2508, 25160, 101330, 37600, 7123, 2400, 15389, 30091]"
      ]
     },
     "execution_count": 7,
     "metadata": {},
     "output_type": "execute_result"
    }
   ],
   "source": [
    "# 2022년 1월 ~ 8월 노원구 월별 코로나19 추가 확진자 데이터 추출 \n",
    "nowon_gu_df = df_date[['자치구 기준일', '노원구 추가']]\n",
    "\n",
    "# '자치구 기준일' 일-> 월로 슬라이싱 E.g) 2022.08.31.00 -> 2022.08\n",
    "for i, row in nowon_gu_df.iterrows():\n",
    "    nowon_gu_df.loc[i, '자치구 기준일'] = nowon_gu_df.loc[i, '자치구 기준일'][0:7]\n",
    " \n",
    "nowon_gu = nowon_gu_df.groupby('자치구 기준일')['노원구 추가'].sum().tolist()\n",
    "nowon_gu"
   ]
  },
  {
   "cell_type": "code",
   "execution_count": 8,
   "id": "661b5af6",
   "metadata": {},
   "outputs": [
    {
     "data": {
      "text/plain": [
       "[3463, 26972, 96036, 36346, 8064, 3621, 18795, 29248]"
      ]
     },
     "execution_count": 8,
     "metadata": {},
     "output_type": "execute_result"
    }
   ],
   "source": [
    "# 2022년 1월 ~ 8월 강남구 월별 코로나19 추가 확진자 데이터 추출 \n",
    "gangnam_gu_df = df_date[['자치구 기준일', '강남구 추가']]\n",
    "\n",
    "# '자치구 기준일' 일-> 월로 슬라이싱 E.g) 2022.08.31.00 -> 2022.08\n",
    "for i, row in nowon_gu_df.iterrows():\n",
    "    gangnam_gu_df.loc[i, '자치구 기준일'] = gangnam_gu_df.loc[i, '자치구 기준일'][0:7]\n",
    " \n",
    "gangnam_gu = gangnam_gu_df.groupby('자치구 기준일')['강남구 추가'].sum().tolist()\n",
    "gangnam_gu"
   ]
  },
  {
   "cell_type": "markdown",
   "id": "b66559a8",
   "metadata": {},
   "source": [
    "#### 4. 그래프 그리기"
   ]
  },
  {
   "cell_type": "code",
   "execution_count": 11,
   "id": "42c285b7",
   "metadata": {},
   "outputs": [
    {
     "data": {
      "image/png": "[encoded data removed]",
      "text/plain": [
       "<Figure size 864x432 with 1 Axes>"
      ]
     },
     "metadata": {
      "needs_background": "light"
     },
     "output_type": "display_data"
    }
   ],
   "source": [
    "# 그림 사이즈, 바 굵기 조정\n",
    "fig, ax = plt.subplots(figsize=(12,6))\n",
    "bar_width = 0.25\n",
    "\n",
    "# 월이 8개이므로 0, 1, ~ 7의 위치를 기준으로 삼음\n",
    "index = np.arange(8)\n",
    "\n",
    "# 각 자치구별로 3개의 확진자 수의 bar를 순서대로 나타내는 과정, 각 그래프는 0.25의 간격을 두고 그려짐\n",
    "b1 = plt.bar(index, gwangjin_gu, bar_width, alpha=0.4, color='red', label='gwangjin-gu')\n",
    "\n",
    "b2 = plt.bar(index + bar_width, nowon_gu, bar_width, alpha=0.4, color='blue', label='nowon-gu')\n",
    "\n",
    "b3 = plt.bar(index + 2 * bar_width, gangnam_gu, bar_width, alpha=0.4, color='green', label='gangnam-gu')\n",
    "\n",
    "# x축 위치를 정 가운데로 조정하고 x축의 텍스트를 month 정보와 매칭\n",
    "plt.xticks(np.arange(bar_width, 8 + bar_width, 1), month)\n",
    "\n",
    "# x축, y축 이름 설정\n",
    "plt.xlabel('month')\n",
    "plt.ylabel('number of additional cases')\n",
    "plt.title('From January to August 2022, the trend of additional confirmed cases in Gangnam-gu, Nowon-gu, Gwangjin-gu')\n",
    "plt.legend()\n",
    "plt.show()"
   ]
  },
  {
   "cell_type": "markdown",
   "id": "a136a405",
   "metadata": {},
   "source": [
    "<br/>"
   ]
  },
  {
   "cell_type": "markdown",
   "id": "04f21f39",
   "metadata": {},
   "source": [
    "# 실습 5.\n",
    "### 2021년 서울시 강수량 월별 비교\n",
    "https://data.seoul.go.kr/dataList/10672/S/2/datasetView.do"
   ]
  },
  {
   "cell_type": "markdown",
   "id": "e39f7af5",
   "metadata": {},
   "source": [
    "#### 1. 라이브러리 import"
   ]
  },
  {
   "cell_type": "code",
   "execution_count": 6,
   "id": "3900100e",
   "metadata": {},
   "outputs": [],
   "source": [
    "import pandas as pd\n",
    "import numpy as np\n",
    "import matplotlib.pyplot as plt"
   ]
  },
  {
   "cell_type": "markdown",
   "id": "a105d97c",
   "metadata": {},
   "source": [
    "#### 2. csv 불러오기"
   ]
  },
  {
   "cell_type": "code",
   "execution_count": 7,
   "id": "91af6baa",
   "metadata": {},
   "outputs": [
    {
     "data": {
      "text/html": [
       "<div>\n",
       "<style scoped>\n",
       "    .dataframe tbody tr th:only-of-type {\n",
       "        vertical-align: middle;\n",
       "    }\n",
       "\n",
       "    .dataframe tbody tr th {\n",
       "        vertical-align: top;\n",
       "    }\n",
       "\n",
       "    .dataframe thead th {\n",
       "        text-align: right;\n",
       "    }\n",
       "</style>\n",
       "<table border=\"1\" class=\"dataframe\">\n",
       "  <thead>\n",
       "    <tr style=\"text-align: right;\">\n",
       "      <th></th>\n",
       "      <th>2021. 01</th>\n",
       "      <th>2021. 01.1</th>\n",
       "      <th>2021. 02</th>\n",
       "      <th>2021. 02.1</th>\n",
       "      <th>2021. 03</th>\n",
       "      <th>2021. 03.1</th>\n",
       "      <th>2021. 04</th>\n",
       "      <th>2021. 04.1</th>\n",
       "      <th>2021. 05</th>\n",
       "      <th>2021. 05.1</th>\n",
       "      <th>...</th>\n",
       "      <th>2021. 08</th>\n",
       "      <th>2021. 08.1</th>\n",
       "      <th>2021. 09</th>\n",
       "      <th>2021. 09.1</th>\n",
       "      <th>2021. 10</th>\n",
       "      <th>2021. 10.1</th>\n",
       "      <th>2021. 11</th>\n",
       "      <th>2021. 11.1</th>\n",
       "      <th>2021. 12</th>\n",
       "      <th>2021. 12.1</th>\n",
       "    </tr>\n",
       "  </thead>\n",
       "  <tbody>\n",
       "    <tr>\n",
       "      <th>0</th>\n",
       "      <td>강수량 (㎜)</td>\n",
       "      <td>강수일수 (일)</td>\n",
       "      <td>강수량 (㎜)</td>\n",
       "      <td>강수일수 (일)</td>\n",
       "      <td>강수량 (㎜)</td>\n",
       "      <td>강수일수 (일)</td>\n",
       "      <td>강수량 (㎜)</td>\n",
       "      <td>강수일수 (일)</td>\n",
       "      <td>강수량 (㎜)</td>\n",
       "      <td>강수일수 (일)</td>\n",
       "      <td>...</td>\n",
       "      <td>강수량 (㎜)</td>\n",
       "      <td>강수일수 (일)</td>\n",
       "      <td>강수량 (㎜)</td>\n",
       "      <td>강수일수 (일)</td>\n",
       "      <td>강수량 (㎜)</td>\n",
       "      <td>강수일수 (일)</td>\n",
       "      <td>강수량 (㎜)</td>\n",
       "      <td>강수일수 (일)</td>\n",
       "      <td>강수량 (㎜)</td>\n",
       "      <td>강수일수 (일)</td>\n",
       "    </tr>\n",
       "    <tr>\n",
       "      <th>1</th>\n",
       "      <td>18.9</td>\n",
       "      <td>9</td>\n",
       "      <td>7.1</td>\n",
       "      <td>5</td>\n",
       "      <td>110.9</td>\n",
       "      <td>9</td>\n",
       "      <td>124.1</td>\n",
       "      <td>9</td>\n",
       "      <td>183.1</td>\n",
       "      <td>17</td>\n",
       "      <td>...</td>\n",
       "      <td>211.2</td>\n",
       "      <td>13</td>\n",
       "      <td>131.0</td>\n",
       "      <td>8</td>\n",
       "      <td>57.0</td>\n",
       "      <td>11</td>\n",
       "      <td>62.4</td>\n",
       "      <td>6</td>\n",
       "      <td>7.9</td>\n",
       "      <td>NaN</td>\n",
       "    </tr>\n",
       "  </tbody>\n",
       "</table>\n",
       "<p>2 rows × 24 columns</p>\n",
       "</div>"
      ],
      "text/plain": [
       "  2021. 01 2021. 01.1 2021. 02 2021. 02.1 2021. 03 2021. 03.1 2021. 04  \\\n",
       "0  강수량 (㎜)   강수일수 (일)  강수량 (㎜)   강수일수 (일)  강수량 (㎜)   강수일수 (일)  강수량 (㎜)   \n",
       "1     18.9          9      7.1          5    110.9          9    124.1   \n",
       "\n",
       "  2021. 04.1 2021. 05 2021. 05.1  ... 2021. 08 2021. 08.1 2021. 09 2021. 09.1  \\\n",
       "0   강수일수 (일)  강수량 (㎜)   강수일수 (일)  ...  강수량 (㎜)   강수일수 (일)  강수량 (㎜)   강수일수 (일)   \n",
       "1          9    183.1         17  ...    211.2         13    131.0          8   \n",
       "\n",
       "  2021. 10 2021. 10.1 2021. 11 2021. 11.1 2021. 12 2021. 12.1  \n",
       "0  강수량 (㎜)   강수일수 (일)  강수량 (㎜)   강수일수 (일)  강수량 (㎜)   강수일수 (일)  \n",
       "1     57.0         11     62.4          6      7.9        NaN  \n",
       "\n",
       "[2 rows x 24 columns]"
      ]
     },
     "execution_count": 7,
     "metadata": {},
     "output_type": "execute_result"
    }
   ],
   "source": [
    "df = pd.read_csv('강수량+및+강수일수_20220920013452.csv')\n",
    "df.head()"
   ]
  },
  {
   "cell_type": "markdown",
   "id": "6754b0d5",
   "metadata": {},
   "source": [
    "#### 3. 강수량 및 강수일수 데이터 추출"
   ]
  },
  {
   "cell_type": "code",
   "execution_count": 51,
   "id": "ace53ec0",
   "metadata": {},
   "outputs": [],
   "source": [
    "# 강수량 및 강수일수 문자열 -> 숫자형 변환\n",
    "df.loc[[1]] = df.loc[[1]].apply(pd.to_numeric)"
   ]
  },
  {
   "cell_type": "code",
   "execution_count": 58,
   "id": "eb3b35a4",
   "metadata": {},
   "outputs": [
    {
     "data": {
      "text/plain": [
       "[9.0, 5.0, 9.0, 9.0, 17.0, 13.0, 8.0, 13.0, 8.0, 11.0, 6.0, nan]"
      ]
     },
     "execution_count": 58,
     "metadata": {},
     "output_type": "execute_result"
    }
   ],
   "source": [
    "# 날짜\n",
    "month = list(df.iloc[:, ::2])\n",
    "for i in month:\n",
    "    index = month.index(i)\n",
    "    month[index] = month[index][6:9]\n",
    "\n",
    "\n",
    "# 강수량\n",
    "precipitation_df = df.iloc[:, ::2]\n",
    "precipitation = precipitation_df.loc[1].tolist()\n",
    "\n",
    "# 강수일수\n",
    "precipitation_days_df = df.iloc[:, 1::2]\n",
    "precipitation_days = precipitation_days_df.loc[1].tolist()\n",
    "\n",
    "precipitation_days"
   ]
  },
  {
   "cell_type": "markdown",
   "id": "c4a1e179",
   "metadata": {},
   "source": [
    "#### 4. 그래프 그리기"
   ]
  },
  {
   "cell_type": "code",
   "execution_count": 69,
   "id": "07d7f69d",
   "metadata": {},
   "outputs": [
    {
     "data": {
      "image/png": "[encoded data removed]",
      "text/plain": [
       "<Figure size 864x648 with 2 Axes>"
      ]
     },
     "metadata": {
      "needs_background": "light"
     },
     "output_type": "display_data"
    }
   ],
   "source": [
    "fig = plt.figure(figsize=(12,9))\n",
    "\n",
    "index = np.arange(12)\n",
    "\n",
    "plt.bar(index, precipitation, tick_label=month, align='center', label='precipitation')\n",
    "\n",
    "plt.xlabel('month')\n",
    "plt.ylabel('average precipitation (mm)')\n",
    "\n",
    "plt.twinx()\n",
    "plt.plot(index, precipitation_days, 'r.-', label='precipitation days')\n",
    "plt.ylabel('number of precipitation days (day)')\n",
    "plt.legend()\n",
    "\n",
    "plt.title('Monthly comparison of precipitation in Seoul in 2021')\n",
    "\n",
    "plt.show()"
   ]
  },
  {
   "cell_type": "code",
   "execution_count": null,
   "id": "43d0de6f",
   "metadata": {},
   "outputs": [],
   "source": []
  }
 ],
 "metadata": {
  "kernelspec": {
   "display_name": "Python 3 (ipykernel)",
   "language": "python",
   "name": "python3"
  },
  "language_info": {
   "codemirror_mode": {
    "name": "ipython",
    "version": 3
   },
   "file_extension": ".py",
   "mimetype": "text/x-python",
   "name": "python",
   "nbconvert_exporter": "python",
   "pygments_lexer": "ipython3",
   "version": "3.9.12"
  }
 },
 "nbformat": 4,
 "nbformat_minor": 5
}
